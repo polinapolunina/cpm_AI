{
 "cells": [
  {
   "cell_type": "markdown",
   "metadata": {},
   "source": [
    "# Large scale text analysis with deep learning\n",
    "\n",
    "Today we're gonna apply the newly learned tools for the task of predicting job salary.\n",
    "\n",
    "<img src=\"https://storage.googleapis.com/kaggle-competitions/kaggle/3342/media/salary%20prediction%20engine%20v2.png\" width=400px>\n",
    "\n",
    "_Special thanks to [Oleg Vasilev](https://github.com/Omrigan/) for the core assignment idea._\n",
    "\n",
    "Ноутбук основан на [задании ШАД](https://github.com/yandexdataschool/nlp_course/blob/2022/week02_classification/seminar.ipynb)"
   ]
  },
  {
   "cell_type": "code",
   "execution_count": 1,
   "metadata": {},
   "outputs": [],
   "source": [
    "import numpy as np\n",
    "import pandas as pd\n",
    "import matplotlib.pyplot as plt\n",
    "%matplotlib inline"
   ]
  },
  {
   "cell_type": "markdown",
   "metadata": {},
   "source": [
    "### About the challenge\n",
    "For starters, let's download and unpack the data from [here]. \n",
    "\n",
    "You can also get it from [yadisk url](https://yadi.sk/d/vVEOWPFY3NruT7) the competition [page](https://www.kaggle.com/c/job-salary-prediction/data) (pick `Train_rev1.*`)."
   ]
  },
  {
   "cell_type": "code",
   "execution_count": 2,
   "metadata": {},
   "outputs": [
    {
     "data": {
      "text/plain": [
       "(244768, 12)"
      ]
     },
     "execution_count": 2,
     "metadata": {},
     "output_type": "execute_result"
    }
   ],
   "source": [
    "#!wget https://ysda-seminars.s3.eu-central-1.amazonaws.com/Train_rev1.zip\n",
    "data = pd.read_csv(\"./Train_rev1.zip\", compression='zip', index_col=None)\n",
    "data.shape"
   ]
  },
  {
   "cell_type": "code",
   "execution_count": 3,
   "metadata": {},
   "outputs": [
    {
     "data": {
      "text/html": [
       "<div>\n",
       "<style scoped>\n",
       "    .dataframe tbody tr th:only-of-type {\n",
       "        vertical-align: middle;\n",
       "    }\n",
       "\n",
       "    .dataframe tbody tr th {\n",
       "        vertical-align: top;\n",
       "    }\n",
       "\n",
       "    .dataframe thead th {\n",
       "        text-align: right;\n",
       "    }\n",
       "</style>\n",
       "<table border=\"1\" class=\"dataframe\">\n",
       "  <thead>\n",
       "    <tr style=\"text-align: right;\">\n",
       "      <th></th>\n",
       "      <th>Id</th>\n",
       "      <th>Title</th>\n",
       "      <th>FullDescription</th>\n",
       "      <th>LocationRaw</th>\n",
       "      <th>LocationNormalized</th>\n",
       "      <th>ContractType</th>\n",
       "      <th>ContractTime</th>\n",
       "      <th>Company</th>\n",
       "      <th>Category</th>\n",
       "      <th>SalaryRaw</th>\n",
       "      <th>SalaryNormalized</th>\n",
       "      <th>SourceName</th>\n",
       "    </tr>\n",
       "  </thead>\n",
       "  <tbody>\n",
       "    <tr>\n",
       "      <th>0</th>\n",
       "      <td>12612628</td>\n",
       "      <td>Engineering Systems Analyst</td>\n",
       "      <td>Engineering Systems Analyst Dorking Surrey Sal...</td>\n",
       "      <td>Dorking, Surrey, Surrey</td>\n",
       "      <td>Dorking</td>\n",
       "      <td>NaN</td>\n",
       "      <td>permanent</td>\n",
       "      <td>Gregory Martin International</td>\n",
       "      <td>Engineering Jobs</td>\n",
       "      <td>20000 - 30000/annum 20-30K</td>\n",
       "      <td>25000</td>\n",
       "      <td>cv-library.co.uk</td>\n",
       "    </tr>\n",
       "    <tr>\n",
       "      <th>1</th>\n",
       "      <td>12612830</td>\n",
       "      <td>Stress Engineer Glasgow</td>\n",
       "      <td>Stress Engineer Glasgow Salary **** to **** We...</td>\n",
       "      <td>Glasgow, Scotland, Scotland</td>\n",
       "      <td>Glasgow</td>\n",
       "      <td>NaN</td>\n",
       "      <td>permanent</td>\n",
       "      <td>Gregory Martin International</td>\n",
       "      <td>Engineering Jobs</td>\n",
       "      <td>25000 - 35000/annum 25-35K</td>\n",
       "      <td>30000</td>\n",
       "      <td>cv-library.co.uk</td>\n",
       "    </tr>\n",
       "    <tr>\n",
       "      <th>2</th>\n",
       "      <td>12612844</td>\n",
       "      <td>Modelling and simulation analyst</td>\n",
       "      <td>Mathematical Modeller / Simulation Analyst / O...</td>\n",
       "      <td>Hampshire, South East, South East</td>\n",
       "      <td>Hampshire</td>\n",
       "      <td>NaN</td>\n",
       "      <td>permanent</td>\n",
       "      <td>Gregory Martin International</td>\n",
       "      <td>Engineering Jobs</td>\n",
       "      <td>20000 - 40000/annum 20-40K</td>\n",
       "      <td>30000</td>\n",
       "      <td>cv-library.co.uk</td>\n",
       "    </tr>\n",
       "    <tr>\n",
       "      <th>3</th>\n",
       "      <td>12613049</td>\n",
       "      <td>Engineering Systems Analyst / Mathematical Mod...</td>\n",
       "      <td>Engineering Systems Analyst / Mathematical Mod...</td>\n",
       "      <td>Surrey, South East, South East</td>\n",
       "      <td>Surrey</td>\n",
       "      <td>NaN</td>\n",
       "      <td>permanent</td>\n",
       "      <td>Gregory Martin International</td>\n",
       "      <td>Engineering Jobs</td>\n",
       "      <td>25000 - 30000/annum 25K-30K negotiable</td>\n",
       "      <td>27500</td>\n",
       "      <td>cv-library.co.uk</td>\n",
       "    </tr>\n",
       "    <tr>\n",
       "      <th>4</th>\n",
       "      <td>12613647</td>\n",
       "      <td>Pioneer, Miser Engineering Systems Analyst</td>\n",
       "      <td>Pioneer, Miser  Engineering Systems Analyst Do...</td>\n",
       "      <td>Surrey, South East, South East</td>\n",
       "      <td>Surrey</td>\n",
       "      <td>NaN</td>\n",
       "      <td>permanent</td>\n",
       "      <td>Gregory Martin International</td>\n",
       "      <td>Engineering Jobs</td>\n",
       "      <td>20000 - 30000/annum 20-30K</td>\n",
       "      <td>25000</td>\n",
       "      <td>cv-library.co.uk</td>\n",
       "    </tr>\n",
       "  </tbody>\n",
       "</table>\n",
       "</div>"
      ],
      "text/plain": [
       "         Id                                              Title  \\\n",
       "0  12612628                        Engineering Systems Analyst   \n",
       "1  12612830                            Stress Engineer Glasgow   \n",
       "2  12612844                   Modelling and simulation analyst   \n",
       "3  12613049  Engineering Systems Analyst / Mathematical Mod...   \n",
       "4  12613647         Pioneer, Miser Engineering Systems Analyst   \n",
       "\n",
       "                                     FullDescription  \\\n",
       "0  Engineering Systems Analyst Dorking Surrey Sal...   \n",
       "1  Stress Engineer Glasgow Salary **** to **** We...   \n",
       "2  Mathematical Modeller / Simulation Analyst / O...   \n",
       "3  Engineering Systems Analyst / Mathematical Mod...   \n",
       "4  Pioneer, Miser  Engineering Systems Analyst Do...   \n",
       "\n",
       "                         LocationRaw LocationNormalized ContractType  \\\n",
       "0            Dorking, Surrey, Surrey            Dorking          NaN   \n",
       "1        Glasgow, Scotland, Scotland            Glasgow          NaN   \n",
       "2  Hampshire, South East, South East          Hampshire          NaN   \n",
       "3     Surrey, South East, South East             Surrey          NaN   \n",
       "4     Surrey, South East, South East             Surrey          NaN   \n",
       "\n",
       "  ContractTime                       Company          Category  \\\n",
       "0    permanent  Gregory Martin International  Engineering Jobs   \n",
       "1    permanent  Gregory Martin International  Engineering Jobs   \n",
       "2    permanent  Gregory Martin International  Engineering Jobs   \n",
       "3    permanent  Gregory Martin International  Engineering Jobs   \n",
       "4    permanent  Gregory Martin International  Engineering Jobs   \n",
       "\n",
       "                                SalaryRaw  SalaryNormalized        SourceName  \n",
       "0              20000 - 30000/annum 20-30K             25000  cv-library.co.uk  \n",
       "1              25000 - 35000/annum 25-35K             30000  cv-library.co.uk  \n",
       "2              20000 - 40000/annum 20-40K             30000  cv-library.co.uk  \n",
       "3  25000 - 30000/annum 25K-30K negotiable             27500  cv-library.co.uk  \n",
       "4              20000 - 30000/annum 20-30K             25000  cv-library.co.uk  "
      ]
     },
     "execution_count": 3,
     "metadata": {},
     "output_type": "execute_result"
    }
   ],
   "source": [
    "data.head()"
   ]
  },
  {
   "cell_type": "markdown",
   "metadata": {},
   "source": [
    "One problem with salary prediction is that it's oddly distributed: there are many people who are paid standard salaries and a few that get tons o money. The distribution is fat-tailed on the right side, which is inconvenient for MSE minimization.\n",
    "\n",
    "There are several techniques to combat this: using a different loss function, predicting log-target instead of raw target or even replacing targets with their percentiles among all salaries in the training set. We gonna use logarithm for now.\n",
    "\n",
    "_You can read more [in the official description](https://www.kaggle.com/c/job-salary-prediction#description)._"
   ]
  },
  {
   "cell_type": "code",
   "execution_count": 4,
   "metadata": {},
   "outputs": [
    {
     "data": {
      "image/png": "[encoded data removed]",
      "text/plain": [
       "<Figure size 800x400 with 2 Axes>"
      ]
     },
     "metadata": {},
     "output_type": "display_data"
    }
   ],
   "source": [
    "data['Log1pSalary'] = np.log1p(data['SalaryNormalized']).astype('float32')\n",
    "\n",
    "plt.figure(figsize=[8, 4])\n",
    "plt.subplot(1, 2, 1)\n",
    "plt.hist(data[\"SalaryNormalized\"], bins=20);\n",
    "\n",
    "plt.subplot(1, 2, 2)\n",
    "plt.hist(data['Log1pSalary'], bins=20);"
   ]
  },
  {
   "cell_type": "markdown",
   "metadata": {},
   "source": [
    "Our task is to predict one number, __Log1pSalary__.\n",
    "\n",
    "To do so, our model can access a number of features:\n",
    "* Free text: __`Title`__ and  __`FullDescription`__\n",
    "* Categorical: __`Category`__, __`Company`__, __`LocationNormalized`__, __`ContractType`__, and __`ContractTime`__."
   ]
  },
  {
   "cell_type": "code",
   "execution_count": 5,
   "metadata": {},
   "outputs": [
    {
     "data": {
      "text/html": [
       "<div>\n",
       "<style scoped>\n",
       "    .dataframe tbody tr th:only-of-type {\n",
       "        vertical-align: middle;\n",
       "    }\n",
       "\n",
       "    .dataframe tbody tr th {\n",
       "        vertical-align: top;\n",
       "    }\n",
       "\n",
       "    .dataframe thead th {\n",
       "        text-align: right;\n",
       "    }\n",
       "</style>\n",
       "<table border=\"1\" class=\"dataframe\">\n",
       "  <thead>\n",
       "    <tr style=\"text-align: right;\">\n",
       "      <th></th>\n",
       "      <th>Id</th>\n",
       "      <th>Title</th>\n",
       "      <th>FullDescription</th>\n",
       "      <th>LocationRaw</th>\n",
       "      <th>LocationNormalized</th>\n",
       "      <th>ContractType</th>\n",
       "      <th>ContractTime</th>\n",
       "      <th>Company</th>\n",
       "      <th>Category</th>\n",
       "      <th>SalaryRaw</th>\n",
       "      <th>SalaryNormalized</th>\n",
       "      <th>SourceName</th>\n",
       "      <th>Log1pSalary</th>\n",
       "    </tr>\n",
       "  </thead>\n",
       "  <tbody>\n",
       "    <tr>\n",
       "      <th>62912</th>\n",
       "      <td>68702032</td>\n",
       "      <td>Lync Specialist</td>\n",
       "      <td>This client is a dynamic provider of network m...</td>\n",
       "      <td>Reigate Surrey South East</td>\n",
       "      <td>Reigate</td>\n",
       "      <td>NaN</td>\n",
       "      <td>permanent</td>\n",
       "      <td>Appoint Recruitment</td>\n",
       "      <td>Other/General Jobs</td>\n",
       "      <td>50000 - 55000 per annum</td>\n",
       "      <td>52500</td>\n",
       "      <td>totaljobs.com</td>\n",
       "      <td>10.868587</td>\n",
       "    </tr>\n",
       "    <tr>\n",
       "      <th>157488</th>\n",
       "      <td>71110666</td>\n",
       "      <td>Field Sales Executive  Selfemployed</td>\n",
       "      <td>Join the No.**** independent provider of merch...</td>\n",
       "      <td>Nationwide</td>\n",
       "      <td>UK</td>\n",
       "      <td>full_time</td>\n",
       "      <td>contract</td>\n",
       "      <td>Retail Merchant Services Ltd</td>\n",
       "      <td>Retail Jobs</td>\n",
       "      <td>Potential OTE 50k</td>\n",
       "      <td>50000</td>\n",
       "      <td>jobs.thegrocer.co.uk</td>\n",
       "      <td>10.819798</td>\n",
       "    </tr>\n",
       "    <tr>\n",
       "      <th>237481</th>\n",
       "      <td>72600413</td>\n",
       "      <td>Quantity Surveyor</td>\n",
       "      <td>Intermediate Quantity Surveyor Property mainte...</td>\n",
       "      <td>West Midlands</td>\n",
       "      <td>West Midlands</td>\n",
       "      <td>NaN</td>\n",
       "      <td>permanent</td>\n",
       "      <td>NaN</td>\n",
       "      <td>Trade &amp; Construction Jobs</td>\n",
       "      <td>18,000 - 25,000 depending on experience</td>\n",
       "      <td>21500</td>\n",
       "      <td>hays.co.uk</td>\n",
       "      <td>9.975855</td>\n",
       "    </tr>\n",
       "  </tbody>\n",
       "</table>\n",
       "</div>"
      ],
      "text/plain": [
       "              Id                                Title  \\\n",
       "62912   68702032                      Lync Specialist   \n",
       "157488  71110666  Field Sales Executive  Selfemployed   \n",
       "237481  72600413                    Quantity Surveyor   \n",
       "\n",
       "                                          FullDescription  \\\n",
       "62912   This client is a dynamic provider of network m...   \n",
       "157488  Join the No.**** independent provider of merch...   \n",
       "237481  Intermediate Quantity Surveyor Property mainte...   \n",
       "\n",
       "                      LocationRaw LocationNormalized ContractType  \\\n",
       "62912   Reigate Surrey South East            Reigate          NaN   \n",
       "157488                 Nationwide                 UK    full_time   \n",
       "237481              West Midlands      West Midlands          NaN   \n",
       "\n",
       "       ContractTime                       Company                   Category  \\\n",
       "62912     permanent           Appoint Recruitment         Other/General Jobs   \n",
       "157488     contract  Retail Merchant Services Ltd                Retail Jobs   \n",
       "237481    permanent                           NaN  Trade & Construction Jobs   \n",
       "\n",
       "                                      SalaryRaw  SalaryNormalized  \\\n",
       "62912                   50000 - 55000 per annum             52500   \n",
       "157488                        Potential OTE 50k             50000   \n",
       "237481  18,000 - 25,000 depending on experience             21500   \n",
       "\n",
       "                  SourceName  Log1pSalary  \n",
       "62912          totaljobs.com    10.868587  \n",
       "157488  jobs.thegrocer.co.uk    10.819798  \n",
       "237481            hays.co.uk     9.975855  "
      ]
     },
     "execution_count": 5,
     "metadata": {},
     "output_type": "execute_result"
    }
   ],
   "source": [
    "text_columns = [\"Title\", \"FullDescription\"]\n",
    "categorical_columns = [\"Category\", \"Company\", \"LocationNormalized\", \"ContractType\", \"ContractTime\"]\n",
    "TARGET_COLUMN = \"Log1pSalary\"\n",
    "\n",
    "data[categorical_columns] = data[categorical_columns].fillna('NaN') # cast missing values to string \"NaN\"\n",
    "\n",
    "data.sample(3)"
   ]
  },
  {
   "cell_type": "markdown",
   "metadata": {},
   "source": [
    "### Preprocessing text data\n",
    "\n",
    "Just like last week, applying NLP to a problem begins from tokenization: splitting raw text into sequences of tokens (words, punctuation, etc).\n",
    "\n",
    "__Your task__ is to lowercase and tokenize all texts under `Title` and `FullDescription` columns. Store the tokenized data as a __space-separated__ string of tokens for performance reasons.\n",
    "\n",
    "It's okay to use nltk tokenizers. Assertions were designed for WordPunctTokenizer, slight deviations are okay."
   ]
  },
  {
   "cell_type": "code",
   "execution_count": 6,
   "metadata": {
    "scrolled": true
   },
   "outputs": [
    {
     "name": "stdout",
     "output_type": "stream",
     "text": [
      "Raw text:\n",
      "2         Mathematical Modeller / Simulation Analyst / O...\n",
      "100002    A successful and high achieving specialist sch...\n",
      "200002    Web Designer  HTML, CSS, JavaScript, Photoshop...\n",
      "Name: FullDescription, dtype: object\n"
     ]
    }
   ],
   "source": [
    "print(\"Raw text:\")\n",
    "print(data[\"FullDescription\"][2::100000])"
   ]
  },
  {
   "cell_type": "code",
   "execution_count": 7,
   "metadata": {},
   "outputs": [],
   "source": [
    "import nltk\n",
    "#TODO YOUR CODE HERE\n",
    "\n",
    "tokenizer = nltk.tokenize.WordPunctTokenizer()\n",
    "# YOUR CODE HERE\n",
    "data['FullDescription'] = data['FullDescription'].apply(lambda desc: ' '.join(tokenizer.tokenize(str(desc).lower())))\n",
    "data['Title'] = data['Title'].apply(lambda desc: ' '.join(tokenizer.tokenize(str(desc).lower())))"
   ]
  },
  {
   "cell_type": "markdown",
   "metadata": {},
   "source": [
    "Now we can assume that our text is a space-separated list of tokens:"
   ]
  },
  {
   "cell_type": "code",
   "execution_count": 8,
   "metadata": {},
   "outputs": [
    {
     "name": "stdout",
     "output_type": "stream",
     "text": [
      "Tokenized:\n",
      "2         mathematical modeller / simulation analyst / o...\n",
      "100002    a successful and high achieving specialist sch...\n",
      "200002    web designer html , css , javascript , photosh...\n",
      "Name: FullDescription, dtype: object\n"
     ]
    }
   ],
   "source": [
    "print(\"Tokenized:\")\n",
    "print(data[\"FullDescription\"][2::100000])\n",
    "assert data[\"FullDescription\"][2][:50] == 'mathematical modeller / simulation analyst / opera'\n",
    "assert data[\"Title\"][54321] == 'international digital account manager ( german )'"
   ]
  },
  {
   "cell_type": "markdown",
   "metadata": {},
   "source": [
    "Not all words are equally useful. Some of them are typos or rare words that are only present a few times. \n",
    "\n",
    "Let's count how many times is each word present in the data so that we can build a \"white list\" of known words."
   ]
  },
  {
   "cell_type": "code",
   "execution_count": 9,
   "metadata": {},
   "outputs": [],
   "source": [
    "from collections import Counter\n",
    "token_counts = Counter()\n",
    "\n",
    "# Count how many times does each token occur in both \"Title\" and \"FullDescription\" in total\n",
    "#TODO <YOUR CODE>\n",
    "for title in data['Title']:\n",
    "    token_counts.update(title.split())\n",
    "\n",
    "for title in data['FullDescription']:\n",
    "    token_counts.update(title.split())"
   ]
  },
  {
   "cell_type": "code",
   "execution_count": 10,
   "metadata": {},
   "outputs": [
    {
     "name": "stdout",
     "output_type": "stream",
     "text": [
      "Total unique tokens : 202704\n",
      "('and', 2657388)\n",
      "('.', 2523216)\n",
      "(',', 2318606)\n",
      "('the', 2080994)\n",
      "('to', 2019884)\n",
      "...\n",
      "('stephanietraveltraderecruitmnt', 1)\n",
      "('ruabon', 1)\n",
      "('lowehays', 1)\n",
      "Correct!\n"
     ]
    }
   ],
   "source": [
    "print(\"Total unique tokens :\", len(token_counts))\n",
    "print('\\n'.join(map(str, token_counts.most_common(n=5))))\n",
    "print('...')\n",
    "print('\\n'.join(map(str, token_counts.most_common()[-3:])))\n",
    "\n",
    "assert token_counts.most_common(1)[0][1] in  range(2600000, 2700000)\n",
    "assert len(token_counts) in range(200000, 210000)\n",
    "print('Correct!')"
   ]
  },
  {
   "cell_type": "code",
   "execution_count": 11,
   "metadata": {},
   "outputs": [
    {
     "data": {
      "image/png": "[encoded data removed]",
      "text/plain": [
       "<Figure size 640x480 with 1 Axes>"
      ]
     },
     "metadata": {},
     "output_type": "display_data"
    }
   ],
   "source": [
    "# Let's see how many words are there for each count\n",
    "plt.hist(list(token_counts.values()), range=[0, 10**4], bins=50, log=True)\n",
    "plt.xlabel(\"Word counts\");"
   ]
  },
  {
   "cell_type": "markdown",
   "metadata": {},
   "source": [
    "__Task 1.1__ Get a list of all tokens that occur at least 10 times."
   ]
  },
  {
   "cell_type": "code",
   "execution_count": 12,
   "metadata": {},
   "outputs": [],
   "source": [
    "min_count = 10\n",
    "\n",
    "# tokens from token_counts keys that had at least min_count occurrences throughout the dataset\n",
    "tokens = sorted(t for t, c in token_counts.items() if c >= min_count)#TODO<YOUR CODE HERE>\n",
    "\n",
    "# Add a special tokens for unknown and empty words\n",
    "UNK, PAD = \"UNK\", \"PAD\"\n",
    "tokens = [UNK, PAD] + tokens"
   ]
  },
  {
   "cell_type": "code",
   "execution_count": 13,
   "metadata": {},
   "outputs": [
    {
     "name": "stdout",
     "output_type": "stream",
     "text": [
      "Vocabulary size: 34158\n",
      "Correct!\n"
     ]
    }
   ],
   "source": [
    "print(\"Vocabulary size:\", len(tokens))\n",
    "assert type(tokens) == list\n",
    "assert len(tokens) in range(32000, 35000)\n",
    "assert 'me' in tokens\n",
    "assert UNK in tokens\n",
    "print(\"Correct!\")"
   ]
  },
  {
   "cell_type": "markdown",
   "metadata": {},
   "source": [
    "__Task 1.2__ Build an inverse token index: a dictionary from token(string) to it's index in `tokens` (int)"
   ]
  },
  {
   "cell_type": "code",
   "execution_count": 14,
   "metadata": {},
   "outputs": [],
   "source": [
    "token_to_id = {tokens[i]: i for i in range(len(tokens))}"
   ]
  },
  {
   "cell_type": "code",
   "execution_count": 15,
   "metadata": {},
   "outputs": [
    {
     "name": "stdout",
     "output_type": "stream",
     "text": [
      "Correct!\n"
     ]
    }
   ],
   "source": [
    "assert isinstance(token_to_id, dict)\n",
    "assert len(token_to_id) == len(tokens)\n",
    "for tok in tokens:\n",
    "    assert tokens[token_to_id[tok]] == tok\n",
    "\n",
    "print(\"Correct!\")"
   ]
  },
  {
   "cell_type": "markdown",
   "metadata": {},
   "source": [
    "And finally, let's use the vocabulary you've built to map text lines into neural network-digestible matrices."
   ]
  },
  {
   "cell_type": "code",
   "execution_count": 16,
   "metadata": {},
   "outputs": [],
   "source": [
    "UNK_IX, PAD_IX = map(token_to_id.get, [UNK, PAD])\n",
    "\n",
    "def as_matrix(sequences, max_len=None):\n",
    "    \"\"\" Convert a list of tokens into a matrix with padding \"\"\"\n",
    "    if isinstance(sequences[0], str):\n",
    "        sequences = list(map(str.split, sequences))\n",
    "        \n",
    "    max_len = min(max(map(len, sequences)), max_len or float('inf'))\n",
    "    \n",
    "    matrix = np.full((len(sequences), max_len), np.int32(PAD_IX))\n",
    "    for i,seq in enumerate(sequences):\n",
    "        row_ix = [token_to_id.get(word, UNK_IX) for word in seq[:max_len]]\n",
    "        matrix[i, :len(row_ix)] = row_ix\n",
    "    \n",
    "    return matrix"
   ]
  },
  {
   "cell_type": "code",
   "execution_count": 17,
   "metadata": {},
   "outputs": [
    {
     "name": "stdout",
     "output_type": "stream",
     "text": [
      "Lines:\n",
      "engineering systems analyst\n",
      "hr assistant\n",
      "senior ec & i engineer\n",
      "\n",
      "Matrix:\n",
      "[[10807 30161  2166     1     1]\n",
      " [15020  2844     1     1     1]\n",
      " [27645 10201    16 15215 10804]]\n"
     ]
    }
   ],
   "source": [
    "print(\"Lines:\")\n",
    "print('\\n'.join(data[\"Title\"][::100000].values), end='\\n\\n')\n",
    "print(\"Matrix:\")\n",
    "print(as_matrix(data[\"Title\"][::100000]))"
   ]
  },
  {
   "cell_type": "markdown",
   "metadata": {},
   "source": [
    "Now let's  encode the categirical data we have.\n",
    "\n",
    "As usual, we shall use one-hot encoding for simplicity. Kudos if you implement more advanced encodings: tf-idf, pseudo-time-series, etc."
   ]
  },
  {
   "cell_type": "code",
   "execution_count": 18,
   "metadata": {},
   "outputs": [
    {
     "data": {
      "text/html": [
       "<style>#sk-container-id-1 {color: black;background-color: white;}#sk-container-id-1 pre{padding: 0;}#sk-container-id-1 div.sk-toggleable {background-color: white;}#sk-container-id-1 label.sk-toggleable__label {cursor: pointer;display: block;width: 100%;margin-bottom: 0;padding: 0.3em;box-sizing: border-box;text-align: center;}#sk-container-id-1 label.sk-toggleable__label-arrow:before {content: \"▸\";float: left;margin-right: 0.25em;color: #696969;}#sk-container-id-1 label.sk-toggleable__label-arrow:hover:before {color: black;}#sk-container-id-1 div.sk-estimator:hover label.sk-toggleable__label-arrow:before {color: black;}#sk-container-id-1 div.sk-toggleable__content {max-height: 0;max-width: 0;overflow: hidden;text-align: left;background-color: #f0f8ff;}#sk-container-id-1 div.sk-toggleable__content pre {margin: 0.2em;color: black;border-radius: 0.25em;background-color: #f0f8ff;}#sk-container-id-1 input.sk-toggleable__control:checked~div.sk-toggleable__content {max-height: 200px;max-width: 100%;overflow: auto;}#sk-container-id-1 input.sk-toggleable__control:checked~label.sk-toggleable__label-arrow:before {content: \"▾\";}#sk-container-id-1 div.sk-estimator input.sk-toggleable__control:checked~label.sk-toggleable__label {background-color: #d4ebff;}#sk-container-id-1 div.sk-label input.sk-toggleable__control:checked~label.sk-toggleable__label {background-color: #d4ebff;}#sk-container-id-1 input.sk-hidden--visually {border: 0;clip: rect(1px 1px 1px 1px);clip: rect(1px, 1px, 1px, 1px);height: 1px;margin: -1px;overflow: hidden;padding: 0;position: absolute;width: 1px;}#sk-container-id-1 div.sk-estimator {font-family: monospace;background-color: #f0f8ff;border: 1px dotted black;border-radius: 0.25em;box-sizing: border-box;margin-bottom: 0.5em;}#sk-container-id-1 div.sk-estimator:hover {background-color: #d4ebff;}#sk-container-id-1 div.sk-parallel-item::after {content: \"\";width: 100%;border-bottom: 1px solid gray;flex-grow: 1;}#sk-container-id-1 div.sk-label:hover label.sk-toggleable__label {background-color: #d4ebff;}#sk-container-id-1 div.sk-serial::before {content: \"\";position: absolute;border-left: 1px solid gray;box-sizing: border-box;top: 0;bottom: 0;left: 50%;z-index: 0;}#sk-container-id-1 div.sk-serial {display: flex;flex-direction: column;align-items: center;background-color: white;padding-right: 0.2em;padding-left: 0.2em;position: relative;}#sk-container-id-1 div.sk-item {position: relative;z-index: 1;}#sk-container-id-1 div.sk-parallel {display: flex;align-items: stretch;justify-content: center;background-color: white;position: relative;}#sk-container-id-1 div.sk-item::before, #sk-container-id-1 div.sk-parallel-item::before {content: \"\";position: absolute;border-left: 1px solid gray;box-sizing: border-box;top: 0;bottom: 0;left: 50%;z-index: -1;}#sk-container-id-1 div.sk-parallel-item {display: flex;flex-direction: column;z-index: 1;position: relative;background-color: white;}#sk-container-id-1 div.sk-parallel-item:first-child::after {align-self: flex-end;width: 50%;}#sk-container-id-1 div.sk-parallel-item:last-child::after {align-self: flex-start;width: 50%;}#sk-container-id-1 div.sk-parallel-item:only-child::after {width: 0;}#sk-container-id-1 div.sk-dashed-wrapped {border: 1px dashed gray;margin: 0 0.4em 0.5em 0.4em;box-sizing: border-box;padding-bottom: 0.4em;background-color: white;}#sk-container-id-1 div.sk-label label {font-family: monospace;font-weight: bold;display: inline-block;line-height: 1.2em;}#sk-container-id-1 div.sk-label-container {text-align: center;}#sk-container-id-1 div.sk-container {/* jupyter's `normalize.less` sets `[hidden] { display: none; }` but bootstrap.min.css set `[hidden] { display: none !important; }` so we also need the `!important` here to be able to override the default hidden behavior on the sphinx rendered scikit-learn.org. See: https://github.com/scikit-learn/scikit-learn/issues/21755 */display: inline-block !important;position: relative;}#sk-container-id-1 div.sk-text-repr-fallback {display: none;}</style><div id=\"sk-container-id-1\" class=\"sk-top-container\"><div class=\"sk-text-repr-fallback\"><pre>DictVectorizer(dtype=&lt;class &#x27;numpy.float32&#x27;&gt;, sparse=False)</pre><b>In a Jupyter environment, please rerun this cell to show the HTML representation or trust the notebook. <br />On GitHub, the HTML representation is unable to render, please try loading this page with nbviewer.org.</b></div><div class=\"sk-container\" hidden><div class=\"sk-item\"><div class=\"sk-estimator sk-toggleable\"><input class=\"sk-toggleable__control sk-hidden--visually\" id=\"sk-estimator-id-1\" type=\"checkbox\" checked><label for=\"sk-estimator-id-1\" class=\"sk-toggleable__label sk-toggleable__label-arrow\">DictVectorizer</label><div class=\"sk-toggleable__content\"><pre>DictVectorizer(dtype=&lt;class &#x27;numpy.float32&#x27;&gt;, sparse=False)</pre></div></div></div></div></div>"
      ],
      "text/plain": [
       "DictVectorizer(dtype=<class 'numpy.float32'>, sparse=False)"
      ]
     },
     "execution_count": 18,
     "metadata": {},
     "output_type": "execute_result"
    }
   ],
   "source": [
    "from sklearn.feature_extraction import DictVectorizer\n",
    "\n",
    "# we only consider top-1k most frequent companies to minimize memory usage\n",
    "top_companies, top_counts = zip(*Counter(data['Company']).most_common(1000))\n",
    "recognized_companies = set(top_companies)\n",
    "data[\"Company\"] = data[\"Company\"].apply(lambda comp: comp if comp in recognized_companies else \"Other\")\n",
    "\n",
    "categorical_vectorizer = DictVectorizer(dtype=np.float32, sparse=False)\n",
    "categorical_vectorizer.fit(data[categorical_columns].apply(dict, axis=1))"
   ]
  },
  {
   "cell_type": "markdown",
   "metadata": {},
   "source": [
    "### The deep learning part\n",
    "\n",
    "Once we've learned to tokenize the data, let's design a machine learning experiment.\n",
    "\n",
    "As before, we won't focus too much on validation, opting for a simple train-test split.\n",
    "\n",
    "__To be completely rigorous,__ we've comitted a small crime here: we used the whole data for tokenization and vocabulary building. A more strict way would be to do that part on training set only. You may want to do that and measure the magnitude of changes."
   ]
  },
  {
   "cell_type": "code",
   "execution_count": 19,
   "metadata": {},
   "outputs": [
    {
     "name": "stdout",
     "output_type": "stream",
     "text": [
      "Train size =  195814\n",
      "Validation size =  48954\n"
     ]
    }
   ],
   "source": [
    "from sklearn.model_selection import train_test_split\n",
    "\n",
    "data_train, data_val = train_test_split(data, test_size=0.2, random_state=42)\n",
    "data_train.index = range(len(data_train))\n",
    "data_val.index = range(len(data_val))\n",
    "\n",
    "print(\"Train size = \", len(data_train))\n",
    "print(\"Validation size = \", len(data_val))"
   ]
  },
  {
   "cell_type": "code",
   "execution_count": 20,
   "metadata": {},
   "outputs": [],
   "source": [
    "import torch\n",
    "import torch.nn as nn\n",
    "import torch.nn.functional as F\n",
    "\n",
    "\n",
    "device = 'cuda' if torch.cuda.is_available() else 'cpu'\n",
    "\n",
    "\n",
    "def to_tensors(batch, device):\n",
    "    batch_tensors = dict()\n",
    "    for key, arr in batch.items():\n",
    "        if key in [\"FullDescription\", \"Title\"]:\n",
    "            batch_tensors[key] = torch.tensor(arr, device=device, dtype=torch.int64)\n",
    "        else:\n",
    "            batch_tensors[key] = torch.tensor(arr, device=device)\n",
    "    return batch_tensors\n",
    "\n",
    "\n",
    "def make_batch(data, max_len=None, word_dropout=0, device=device):\n",
    "    \"\"\"\n",
    "    Creates a keras-friendly dict from the batch data.\n",
    "    :param word_dropout: replaces token index with UNK_IX with this probability\n",
    "    :returns: a dict with {'title' : int64[batch, title_max_len]\n",
    "    \"\"\"\n",
    "    batch = {}\n",
    "    batch[\"Title\"] = as_matrix(data[\"Title\"].values, max_len)\n",
    "    batch[\"FullDescription\"] = as_matrix(data[\"FullDescription\"].values, max_len)\n",
    "    batch['Categorical'] = categorical_vectorizer.transform(data[categorical_columns].apply(dict, axis=1))\n",
    "    \n",
    "    if word_dropout != 0:\n",
    "        batch[\"FullDescription\"] = apply_word_dropout(batch[\"FullDescription\"], 1. - word_dropout)\n",
    "    \n",
    "    if TARGET_COLUMN in data.columns:\n",
    "        batch[TARGET_COLUMN] = data[TARGET_COLUMN].values\n",
    "    \n",
    "    return to_tensors(batch, device)\n",
    "\n",
    "def apply_word_dropout(matrix, keep_prop, replace_with=UNK_IX, pad_ix=PAD_IX,):\n",
    "    dropout_mask = np.random.choice(2, np.shape(matrix), p=[keep_prop, 1 - keep_prop])\n",
    "    dropout_mask &= matrix != pad_ix\n",
    "    return np.choose(dropout_mask, [matrix, np.full_like(matrix, replace_with)])"
   ]
  },
  {
   "cell_type": "code",
   "execution_count": 21,
   "metadata": {
    "scrolled": true
   },
   "outputs": [],
   "source": [
    "batch = make_batch(data_train[:3], max_len=10)"
   ]
  },
  {
   "cell_type": "code",
   "execution_count": 22,
   "metadata": {},
   "outputs": [
    {
     "data": {
      "text/plain": [
       "{'Title': tensor([[27645, 29893, 33674,     1,     1,     1,     1],\n",
       "         [29239,   197, 19175, 20042, 15554, 23162,  4051],\n",
       "         [10609, 30412, 17746,    33,  8705, 29157,    65]], device='cuda:0'),\n",
       " 'FullDescription': tensor([[27645, 29893, 33674, 32939,   982, 27645, 29893, 33674, 16451, 32939],\n",
       "         [29239,   197, 19175, 20042, 15554, 23162,  4051, 25511,   907,    82],\n",
       "         [30746, 21956, 20601,  6409, 16451,  8165, 27493,   982, 30412, 17746]],\n",
       "        device='cuda:0'),\n",
       " 'Categorical': tensor([[0., 0., 0.,  ..., 0., 0., 0.],\n",
       "         [0., 0., 0.,  ..., 0., 0., 0.],\n",
       "         [0., 0., 0.,  ..., 0., 0., 0.]], device='cuda:0'),\n",
       " 'Log1pSalary': tensor([ 9.7115, 10.4631, 10.7144], device='cuda:0')}"
      ]
     },
     "execution_count": 22,
     "metadata": {},
     "output_type": "execute_result"
    }
   ],
   "source": [
    "batch"
   ]
  },
  {
   "cell_type": "code",
   "execution_count": 44,
   "metadata": {},
   "outputs": [],
   "source": [
    "emb = torch.nn.Embedding(len(tokens), 32, device=device)\n",
    "# [batch, sequence_length, channels]\n",
    "\n",
    "conv = torch.nn.Conv1d(emb.embedding_dim, 64, 3, device=device)\n",
    "# [batch, channels, sequence_length]"
   ]
  },
  {
   "cell_type": "code",
   "execution_count": 45,
   "metadata": {},
   "outputs": [
    {
     "data": {
      "text/plain": [
       "torch.Size([3, 7, 32])"
      ]
     },
     "execution_count": 45,
     "metadata": {},
     "output_type": "execute_result"
    }
   ],
   "source": [
    "emb(batch['Title']).shape"
   ]
  },
  {
   "cell_type": "code",
   "execution_count": 62,
   "metadata": {},
   "outputs": [
    {
     "data": {
      "text/plain": [
       "torch.Size([3, 64])"
      ]
     },
     "execution_count": 62,
     "metadata": {},
     "output_type": "execute_result"
    }
   ],
   "source": [
    "conv(\n",
    "    emb(batch[\"Title\"]).transpose(-1, -2)\n",
    ").max(dim=-1).values.shape"
   ]
  },
  {
   "cell_type": "code",
   "execution_count": 54,
   "metadata": {},
   "outputs": [],
   "source": [
    "emb = torch.nn.Embedding(len(tokens), 32, device=device)\n",
    "# [batch, sequence_length,   channel->32]\n",
    "\n",
    "conv = torch.nn.Conv1d(emb.embedding_dim, 64, 3, device=device)\n",
    "# [batch, channel->64, sequence_length]\n",
    "\n",
    "linear = torch.nn.Linear(64, 128, device=device)"
   ]
  },
  {
   "cell_type": "code",
   "execution_count": 55,
   "metadata": {},
   "outputs": [],
   "source": [
    "hid = emb(batch['Title'])\n",
    "\n",
    "hid = conv(hid.transpose(-1, -2))\n",
    "\n",
    "hid = hid.max(dim=-1).values\n",
    "\n",
    "hid = linear(hid)"
   ]
  },
  {
   "cell_type": "markdown",
   "metadata": {},
   "source": [
    "#### Architecture\n",
    "\n",
    "Our basic model consists of three branches:\n",
    "* Title encoder\n",
    "* Description encoder\n",
    "* Categorical features encoder\n",
    "\n",
    "We will then feed all 3 branches into one common network that predicts salary.\n",
    "\n",
    "![scheme](https://github.com/yandexdataschool/nlp_course/raw/master/resources/w2_conv_arch.png)"
   ]
  },
  {
   "cell_type": "markdown",
   "metadata": {},
   "source": [
    "This clearly doesn't fit into keras' __Sequential__ interface. To build such a network, one will have to use PyTorch."
   ]
  },
  {
   "cell_type": "markdown",
   "metadata": {},
   "source": [
    "__Для начала я сделал 3 отдельных модуля - encoder'а(как на картинке)__\n",
    "\n",
    "* Для названия я решил сделать encoder поменьше и попроще, т.к. оно обычно меньше по размеру, да и несет в себе как правило меньше информации\n",
    "\n",
    "* Для описания вакансии я сделал энкодер чуть посложнее, т.к. оно больше и тут кроются более важные нюансы\n",
    "\n",
    "* Для остальных фич - просто линейный слой с активацией"
   ]
  },
  {
   "cell_type": "code",
   "execution_count": 56,
   "metadata": {},
   "outputs": [
    {
     "data": {
      "text/plain": [
       "torch.Size([3, 7])"
      ]
     },
     "execution_count": 56,
     "metadata": {},
     "output_type": "execute_result"
    }
   ],
   "source": [
    "batch[\"Title\"].shape"
   ]
  },
  {
   "cell_type": "code",
   "execution_count": 73,
   "metadata": {},
   "outputs": [],
   "source": [
    "class TitleEncoder(nn.Module):\n",
    "    def __init__(self, n_tokens=len(tokens), emb_size=32, channel_num=64):\n",
    "        super().__init__()\n",
    "        self.n_tokens = n_tokens\n",
    "        self.emb_size = emb_size\n",
    "        self.channel_num = channel_num\n",
    "        \n",
    "        self.emb = nn.Embedding(n_tokens, emb_size)\n",
    "        self.conv1 = nn.Conv1d(emb_size, self.channel_num, 3)\n",
    "        self.relu1 = nn.ReLU()\n",
    "        \n",
    "    def forward(self, batch):\n",
    "        hidden = self.emb(batch)\n",
    "        hidden = hidden.transpose(-1, -2)\n",
    "        hidden = self.relu1(self.conv1(hidden))\n",
    "        hidden = hidden.max(dim=-1).values\n",
    "        \n",
    "        return hidden"
   ]
  },
  {
   "cell_type": "code",
   "execution_count": 66,
   "metadata": {},
   "outputs": [
    {
     "data": {
      "text/plain": [
       "torch.Size([3, 10])"
      ]
     },
     "execution_count": 66,
     "metadata": {},
     "output_type": "execute_result"
    }
   ],
   "source": [
    "batch[\"FullDescription\"].shape"
   ]
  },
  {
   "cell_type": "code",
   "execution_count": 74,
   "metadata": {},
   "outputs": [],
   "source": [
    "class DescriptionEncoder(nn.Module):\n",
    "    def __init__(self, n_tokens=len(tokens), emb_size=32, output_dim=64):\n",
    "        super().__init__()\n",
    "        self.n_tokens = n_tokens\n",
    "        self.emb_size = emb_size\n",
    "        self.output_dim = output_dim\n",
    "        \n",
    "        self.emb = nn.Embedding(n_tokens, emb_size)\n",
    "        self.conv1 = nn.Conv1d(emb_size, self.output_dim, 3)\n",
    "        self.relu1 = nn.ReLU()\n",
    "        \n",
    "        self.conv2 = nn.Conv1d(self.output_dim, self.output_dim, 3)\n",
    "        self.relu2 = nn.ReLU()\n",
    "        \n",
    "    def forward(self, batch):\n",
    "        hidden = self.emb(batch)\n",
    "        hidden = hidden.transpose(-1, -2)\n",
    "        hidden = self.relu1(self.conv1(hidden))\n",
    "        hidden = self.relu2(self.conv2(hidden))\n",
    "        hidden = hidden.max(dim=-1).values\n",
    "        \n",
    "        return hidden"
   ]
  },
  {
   "cell_type": "code",
   "execution_count": 67,
   "metadata": {},
   "outputs": [
    {
     "data": {
      "text/plain": [
       "torch.Size([3, 3768])"
      ]
     },
     "execution_count": 67,
     "metadata": {},
     "output_type": "execute_result"
    }
   ],
   "source": [
    "batch[\"Categorical\"].shape"
   ]
  },
  {
   "cell_type": "code",
   "execution_count": 75,
   "metadata": {},
   "outputs": [],
   "source": [
    "class CategoricalEncoder(nn.Module):\n",
    "    def __init__(self, cat_size=3768, output_dim=64):\n",
    "        super().__init__()\n",
    "        self.cat_size = cat_size\n",
    "        self.output_dim = output_dim\n",
    "        \n",
    "        self.linear1 = nn.Linear(self.cat_size, self.output_dim)\n",
    "        self.relu1 = nn.ReLU()\n",
    "        \n",
    "    def forward(self, batch):\n",
    "        hidden = self.relu1(self.linear1(batch))\n",
    "        return hidden"
   ]
  },
  {
   "cell_type": "code",
   "execution_count": 76,
   "metadata": {},
   "outputs": [],
   "source": [
    "class SalaryPredictor(nn.Module):\n",
    "    def __init__(self, n_tokens=len(tokens), n_cat_features=len(categorical_vectorizer.vocabulary_), hid_size=64,\n",
    "                        output_dim=128):\n",
    "        super().__init__()\n",
    "        #  YOUR CODE HERE\n",
    "        self.n_tokens = n_tokens\n",
    "        self.n_cat_features = n_cat_features\n",
    "        self.hid_size = hid_size\n",
    "        self.output_dim = output_dim\n",
    "        \n",
    "        self.title_enc = TitleEncoder(self.n_tokens, self.hid_size, self.output_dim)\n",
    "        self.desc_enc = DescriptionEncoder(self.n_tokens, self.hid_size, self.output_dim)\n",
    "        self.cat_enc = CategoricalEncoder(self.n_cat_features, self.output_dim)\n",
    "        \n",
    "        self.ans_linear = nn.Linear(3 * self.output_dim, 1)\n",
    "        \n",
    "    def forward(self, batch):\n",
    "        # YOUR CODE HERE\n",
    "        title_embed = self.title_enc(batch['Title'])\n",
    "        desc_embed = self.desc_enc(batch['FullDescription'])\n",
    "        categ_embed = self.cat_enc(batch['Categorical'])\n",
    "        \n",
    "        salary = torch.cat((title_embed, desc_embed, categ_embed), 1)\n",
    "        salary = self.ans_linear(salary)\n",
    "        \n",
    "        return salary.squeeze()"
   ]
  },
  {
   "cell_type": "code",
   "execution_count": 77,
   "metadata": {},
   "outputs": [],
   "source": [
    "model = SalaryPredictor().to(device)\n",
    "batch = make_batch(data_train[:100])\n",
    "criterion = nn.MSELoss()\n",
    "\n",
    "dummy_pred = model(batch)\n",
    "dummy_loss = criterion(dummy_pred, batch[TARGET_COLUMN])\n",
    "assert dummy_pred.shape == torch.Size([100])\n",
    "with torch.no_grad():\n",
    "    assert len(torch.unique(dummy_pred)) > 20, \"model returns suspiciously few unique outputs. Check your initialization\"\n",
    "assert dummy_loss.ndim == 0 and 0. <= dummy_loss <= 250., \"make sure you minimize MSE\""
   ]
  },
  {
   "cell_type": "markdown",
   "metadata": {},
   "source": [
    "#### Training and evaluation\n",
    "\n",
    "As usual, we gonna feed our monster with random minibatches of data. \n",
    "\n",
    "As we train, we want to monitor not only loss function, which is computed in log-space, but also the actual error measured in dollars."
   ]
  },
  {
   "cell_type": "code",
   "execution_count": 81,
   "metadata": {},
   "outputs": [],
   "source": [
    "def iterate_minibatches(data, batch_size=256, shuffle=True, cycle=False, device=device, **kwargs):\n",
    "    \"\"\" iterates minibatches of data in random order \"\"\"\n",
    "    while True:\n",
    "        indices = np.arange(len(data))\n",
    "        if shuffle:\n",
    "            indices = np.random.permutation(indices)\n",
    "\n",
    "        for start in range(0, len(indices), batch_size):\n",
    "            batch = make_batch(data.iloc[indices[start : start + batch_size]], device=device, **kwargs)\n",
    "            yield batch\n",
    "        \n",
    "        if not cycle: break"
   ]
  },
  {
   "cell_type": "markdown",
   "metadata": {},
   "source": [
    "### Model training\n",
    "\n",
    "We can now fit our model the usual minibatch way. The interesting part is that we train on an infinite stream of minibatches, produced by `iterate_minibatches` function."
   ]
  },
  {
   "cell_type": "code",
   "execution_count": 82,
   "metadata": {},
   "outputs": [],
   "source": [
    "from tqdm.auto import tqdm\n",
    "\n",
    "BATCH_SIZE = 16\n",
    "EPOCHS = 5"
   ]
  },
  {
   "cell_type": "code",
   "execution_count": 83,
   "metadata": {},
   "outputs": [],
   "source": [
    "def print_metrics(model, data, batch_size=BATCH_SIZE, name=\"\", **kw):\n",
    "    squared_error = abs_error = num_samples = 0.0\n",
    "    model.eval()\n",
    "    with torch.no_grad():\n",
    "        for batch in iterate_minibatches(data, batch_size=batch_size, shuffle=False, **kw):\n",
    "            batch_pred = model(batch)\n",
    "            squared_error += torch.sum(torch.square(batch_pred - batch[TARGET_COLUMN]))\n",
    "            abs_error += torch.sum(torch.abs(batch_pred - batch[TARGET_COLUMN]))\n",
    "            num_samples += len(batch_pred)\n",
    "    mse = squared_error.detach().cpu().numpy() / num_samples\n",
    "    mae = abs_error.detach().cpu().numpy() / num_samples\n",
    "    print(\"%s results:\" % (name or \"\"))\n",
    "    print(\"Mean square error: %.5f\" % mse)\n",
    "    print(\"Mean absolute error: %.5f\" % mae)\n",
    "    return mse, mae\n"
   ]
  },
  {
   "cell_type": "code",
   "execution_count": 86,
   "metadata": {},
   "outputs": [
    {
     "name": "stdout",
     "output_type": "stream",
     "text": [
      "epoch: 0\n"
     ]
    },
    {
     "data": {
      "application/json": {
       "ascii": false,
       "bar_format": null,
       "colour": null,
       "elapsed": 0.014064311981201172,
       "initial": 0,
       "n": 0,
       "ncols": null,
       "nrows": 38,
       "postfix": null,
       "prefix": "",
       "rate": null,
       "total": 12238,
       "unit": "it",
       "unit_divisor": 1000,
       "unit_scale": false
      },
      "application/vnd.jupyter.widget-view+json": {
       "model_id": "0c63ba41189942df8c18773df09440aa",
       "version_major": 2,
       "version_minor": 0
      },
      "text/plain": [
       "  0%|          | 0/12238 [00:00<?, ?it/s]"
      ]
     },
     "metadata": {},
     "output_type": "display_data"
    },
    {
     "name": "stdout",
     "output_type": "stream",
     "text": [
      " results:\n",
      "Mean square error: 0.15957\n",
      "Mean absolute error: 0.31863\n",
      "epoch: 1\n"
     ]
    },
    {
     "data": {
      "application/json": {
       "ascii": false,
       "bar_format": null,
       "colour": null,
       "elapsed": 0.019928932189941406,
       "initial": 0,
       "n": 0,
       "ncols": null,
       "nrows": 38,
       "postfix": null,
       "prefix": "",
       "rate": null,
       "total": 12238,
       "unit": "it",
       "unit_divisor": 1000,
       "unit_scale": false
      },
      "application/vnd.jupyter.widget-view+json": {
       "model_id": "c614b3e279a04df299f4ba139650c2ac",
       "version_major": 2,
       "version_minor": 0
      },
      "text/plain": [
       "  0%|          | 0/12238 [00:00<?, ?it/s]"
      ]
     },
     "metadata": {},
     "output_type": "display_data"
    },
    {
     "name": "stdout",
     "output_type": "stream",
     "text": [
      " results:\n",
      "Mean square error: 0.10896\n",
      "Mean absolute error: 0.24976\n",
      "epoch: 2\n"
     ]
    },
    {
     "data": {
      "application/json": {
       "ascii": false,
       "bar_format": null,
       "colour": null,
       "elapsed": 0.025845050811767578,
       "initial": 0,
       "n": 0,
       "ncols": null,
       "nrows": 38,
       "postfix": null,
       "prefix": "",
       "rate": null,
       "total": 12238,
       "unit": "it",
       "unit_divisor": 1000,
       "unit_scale": false
      },
      "application/vnd.jupyter.widget-view+json": {
       "model_id": "2b2a11eb973040f895442c94fc60b60a",
       "version_major": 2,
       "version_minor": 0
      },
      "text/plain": [
       "  0%|          | 0/12238 [00:00<?, ?it/s]"
      ]
     },
     "metadata": {},
     "output_type": "display_data"
    },
    {
     "name": "stdout",
     "output_type": "stream",
     "text": [
      " results:\n",
      "Mean square error: 0.09913\n",
      "Mean absolute error: 0.23829\n",
      "epoch: 3\n"
     ]
    },
    {
     "data": {
      "application/json": {
       "ascii": false,
       "bar_format": null,
       "colour": null,
       "elapsed": 0.02779865264892578,
       "initial": 0,
       "n": 0,
       "ncols": null,
       "nrows": 38,
       "postfix": null,
       "prefix": "",
       "rate": null,
       "total": 12238,
       "unit": "it",
       "unit_divisor": 1000,
       "unit_scale": false
      },
      "application/vnd.jupyter.widget-view+json": {
       "model_id": "73d4cccb57234704971d752e667653fe",
       "version_major": 2,
       "version_minor": 0
      },
      "text/plain": [
       "  0%|          | 0/12238 [00:00<?, ?it/s]"
      ]
     },
     "metadata": {},
     "output_type": "display_data"
    },
    {
     "name": "stdout",
     "output_type": "stream",
     "text": [
      " results:\n",
      "Mean square error: 0.09332\n",
      "Mean absolute error: 0.23076\n",
      "epoch: 4\n"
     ]
    },
    {
     "data": {
      "application/json": {
       "ascii": false,
       "bar_format": null,
       "colour": null,
       "elapsed": 0.02518439292907715,
       "initial": 0,
       "n": 0,
       "ncols": null,
       "nrows": 38,
       "postfix": null,
       "prefix": "",
       "rate": null,
       "total": 12238,
       "unit": "it",
       "unit_divisor": 1000,
       "unit_scale": false
      },
      "application/vnd.jupyter.widget-view+json": {
       "model_id": "ccfb6347595848f28f66ee4e24b4cbf8",
       "version_major": 2,
       "version_minor": 0
      },
      "text/plain": [
       "  0%|          | 0/12238 [00:00<?, ?it/s]"
      ]
     },
     "metadata": {},
     "output_type": "display_data"
    },
    {
     "name": "stdout",
     "output_type": "stream",
     "text": [
      " results:\n",
      "Mean square error: 0.08967\n",
      "Mean absolute error: 0.22634\n"
     ]
    }
   ],
   "source": [
    "model = SalaryPredictor().to(device)\n",
    "criterion = nn.MSELoss(reduction='sum')\n",
    "optimizer = torch.optim.SGD(model.parameters(), lr=1e-4)\n",
    "\n",
    "for epoch in range(EPOCHS):\n",
    "    print(f\"epoch: {epoch}\")\n",
    "    model.train()\n",
    "    for i, batch in tqdm(enumerate(\n",
    "            iterate_minibatches(data_train, batch_size=BATCH_SIZE, device=device)),\n",
    "            total=len(data_train) // BATCH_SIZE\n",
    "        ):\n",
    "        pred = model(batch)\n",
    "        loss = criterion(pred, batch[TARGET_COLUMN])\n",
    "        optimizer.zero_grad()\n",
    "        loss.backward()\n",
    "        optimizer.step()\n",
    "        \n",
    "    print_metrics(model, data_val, device=device)\n",
    "\n",
    "      "
   ]
  },
  {
   "cell_type": "code",
   "execution_count": 106,
   "metadata": {},
   "outputs": [
    {
     "data": {
      "text/plain": [
       "(10.316834, 0.49155363)"
      ]
     },
     "execution_count": 106,
     "metadata": {},
     "output_type": "execute_result"
    }
   ],
   "source": [
    "data['Log1pSalary'].mean(), data['Log1pSalary'].std()"
   ]
  },
  {
   "cell_type": "markdown",
   "metadata": {},
   "source": [
    "__Видно, что модель учится. Сравнивать пока не с чем, но MAE 0.22, при значениях таргета порядка 10, кажется неплохим результатом, особенно для бейзлайна__"
   ]
  },
  {
   "cell_type": "markdown",
   "metadata": {},
   "source": [
    "__По тому что ниже:__\n",
    "\n",
    "Не могу сказать, выучила ли модель что-то осмысленное, например на итоговый скор сильно негативно влияет слово \"Junior\", и сильно позитивно \"graduate level\" или \"experience\", что очень логично.\n",
    "\n",
    "Очень часто модель позитивно реагирует на слова \"пожалуйста\" в вакансиях, что в принципе логично.\n",
    "\n",
    "Из странностей, модель часто иногда сильно реагирует на предлоги и слова, которые не несут в себе глубокой смысловой нагрузки"
   ]
  },
  {
   "cell_type": "markdown",
   "metadata": {},
   "source": [
    "### Bonus part: explaining model predictions\n",
    "\n",
    "It's usually a good idea to understand how your model works before you let it make actual decisions. It's simple for linear models: just see which words learned positive or negative weights. However, its much harder for neural networks that learn complex nonlinear dependencies.\n",
    "\n",
    "There are, however, some ways to look inside the black box:\n",
    "* Seeing how model responds to input perturbations\n",
    "* Finding inputs that maximize/minimize activation of some chosen neurons (_read more [on distill.pub](https://distill.pub/2018/building-blocks/)_)\n",
    "* Building local linear approximations to your neural network: [article](https://arxiv.org/abs/1602.04938), [eli5 library](https://github.com/TeamHG-Memex/eli5/tree/master/eli5/formatters)\n",
    "\n",
    "Today we gonna try the first method just because it's the simplest one."
   ]
  },
  {
   "cell_type": "code",
   "execution_count": 90,
   "metadata": {},
   "outputs": [],
   "source": [
    "def explain(model, sample, col_name='Title'):\n",
    "    \"\"\" Computes the effect each word had on model predictions \"\"\"\n",
    "    sample = dict(sample)\n",
    "    sample_col_tokens = [tokens[token_to_id.get(tok, 0)] for tok in sample[col_name].split()]\n",
    "    data_drop_one_token = pd.DataFrame([sample] * (len(sample_col_tokens) + 1))\n",
    "\n",
    "    for drop_i in range(len(sample_col_tokens)):\n",
    "        data_drop_one_token.loc[drop_i, col_name] = ' '.join(UNK if i == drop_i else tok\n",
    "                                                   for i, tok in enumerate(sample_col_tokens)) \n",
    "\n",
    "    *predictions_drop_one_token, baseline_pred = model(make_batch(data_drop_one_token, device=device)).detach().cpu()\n",
    "    diffs = baseline_pred - torch.Tensor(predictions_drop_one_token)\n",
    "    return list(zip(sample_col_tokens, diffs))"
   ]
  },
  {
   "cell_type": "code",
   "execution_count": 91,
   "metadata": {},
   "outputs": [],
   "source": [
    "from IPython.display import HTML, display_html\n",
    "\n",
    "\n",
    "def draw_html(tokens_and_weights, cmap=plt.get_cmap(\"bwr\"), display=True,\n",
    "              token_template=\"\"\"<span style=\"background-color: {color_hex}\">{token}</span>\"\"\",\n",
    "              font_style=\"font-size:14px;\"\n",
    "             ):\n",
    "    \n",
    "    def get_color_hex(weight):\n",
    "        rgba = cmap(1. / (1 + np.exp(float(weight))), bytes=True)\n",
    "        return '#%02X%02X%02X' % rgba[:3]\n",
    "    \n",
    "    tokens_html = [\n",
    "        token_template.format(token=token, color_hex=get_color_hex(weight))\n",
    "        for token, weight in tokens_and_weights\n",
    "    ]\n",
    "    \n",
    "    \n",
    "    raw_html = \"\"\"<p style=\"{}\">{}</p>\"\"\".format(font_style, ' '.join(tokens_html))\n",
    "    if display:\n",
    "        display_html(HTML(raw_html))\n",
    "        \n",
    "    return raw_html\n",
    "    "
   ]
  },
  {
   "cell_type": "code",
   "execution_count": 92,
   "metadata": {},
   "outputs": [
    {
     "data": {
      "text/html": [
       "<p style=\"font-size:20px;\"><span style=\"background-color: #F2F2FF\">sales</span> <span style=\"background-color: #F2F2FF\">specialist</span> <span style=\"background-color: #FFAAAA\">iv</span> <span style=\"background-color: #FFCCCC\">access</span> <span style=\"background-color: #ECECFF\">and</span> <span style=\"background-color: #FFDCDC\">infusion</span></p>"
      ]
     },
     "metadata": {},
     "output_type": "display_data"
    },
    {
     "data": {
      "text/html": [
       "<p style=\"font-size:14px;\"><span style=\"background-color: #FFFEFE\">sales</span> <span style=\"background-color: #F8F8FF\">representative</span> <span style=\"background-color: #F8F8FF\">medical</span> <span style=\"background-color: #FFFEFE\">sales</span> <span style=\"background-color: #FAFAFF\">iv</span> <span style=\"background-color: #F8F8FF\">access</span> <span style=\"background-color: #FAFAFF\">and</span> <span style=\"background-color: #FFFEFE\">infusion</span> <span style=\"background-color: #FFFEFE\">an</span> <span style=\"background-color: #FFEEEE\">opportunity</span> <span style=\"background-color: #F8F8FF\">to</span> <span style=\"background-color: #F0F0FF\">work</span> <span style=\"background-color: #FAFAFF\">for</span> <span style=\"background-color: #F0F0FF\">the</span> <span style=\"background-color: #FFFAFA\">industry</span> <span style=\"background-color: #E0E0FF\">leading</span> <span style=\"background-color: #FEFEFF\">manufacturer</span> <span style=\"background-color: #FFFAFA\">of</span> <span style=\"background-color: #FFC0C0\">iv</span> <span style=\"background-color: #FFF2F2\">access</span> <span style=\"background-color: #FCFCFF\">and</span> <span style=\"background-color: #FFFCFC\">infusion</span> <span style=\"background-color: #F8F8FF\">solutions</span> <span style=\"background-color: #FFF0F0\">.</span> <span style=\"background-color: #FFFEFE\">formally</span> <span style=\"background-color: #FAFAFF\">recognised</span> <span style=\"background-color: #E3E3FF\">as</span> <span style=\"background-color: #FFFAFA\">the</span> <span style=\"background-color: #FFE4E4\">number</span> <span style=\"background-color: #E6E6FF\">****</span> <span style=\"background-color: #FFFEFE\">company</span> <span style=\"background-color: #F6F6FF\">in</span> <span style=\"background-color: #E6E6FF\">this</span> <span style=\"background-color: #D8D8FF\">market</span> <span style=\"background-color: #FFF6F6\">space</span> <span style=\"background-color: #C6C6FF\">,</span> <span style=\"background-color: #F2F2FF\">our</span> <span style=\"background-color: #F2F2FF\">client</span> <span style=\"background-color: #F3F3FF\">are</span> <span style=\"background-color: #FCFCFF\">an</span> <span style=\"background-color: #E2E2FF\">ethical</span> <span style=\"background-color: #FFFAFA\">and</span> <span style=\"background-color: #D6D6FF\">dynamic</span> <span style=\"background-color: #CECEFF\">organisation</span> <span style=\"background-color: #C2C2FF\">absolutely</span> <span style=\"background-color: #F8F8FF\">committed</span> <span style=\"background-color: #F2F2FF\">to</span> <span style=\"background-color: #FCFCFF\">the</span> <span style=\"background-color: #FFFCFC\">advancement</span> <span style=\"background-color: #FFFCFC\">of</span> <span style=\"background-color: #E6E6FF\">innovative</span> <span style=\"background-color: #FFFCFC\">technologies</span> <span style=\"background-color: #FFE6E6\">.</span> <span style=\"background-color: #F3F3FF\">job</span> <span style=\"background-color: #EAEAFF\">title</span> <span style=\"background-color: #FCFCFF\">:</span> <span style=\"background-color: #FAFAFF\">sales</span> <span style=\"background-color: #FCFCFF\">specialist</span> <span style=\"background-color: #FFFCFC\">iv</span> <span style=\"background-color: #FCFCFF\">access</span> <span style=\"background-color: #F0F0FF\">and</span> <span style=\"background-color: #FEFEFF\">infusion</span> <span style=\"background-color: #FFFCFC\">selling</span> <span style=\"background-color: #ECECFF\">:</span> <span style=\"background-color: #FFFCFC\">medication</span> <span style=\"background-color: #FFE8E8\">delivery</span> <span style=\"background-color: #EAEAFF\">solutions</span> <span style=\"background-color: #F2F2FF\">selling</span> <span style=\"background-color: #FCFCFF\">to</span> <span style=\"background-color: #FFECEC\">:</span> <span style=\"background-color: #FEFEFF\">iv</span> <span style=\"background-color: #FCFCFF\">teams</span> <span style=\"background-color: #FFFEFE\">,</span> <span style=\"background-color: #F3F3FF\">infection</span> <span style=\"background-color: #FFFEFE\">control</span> <span style=\"background-color: #FFFEFE\">,</span> <span style=\"background-color: #FFFEFE\">lead</span> <span style=\"background-color: #FFD0D0\">intensive</span> <span style=\"background-color: #FFFAFA\">care</span> <span style=\"background-color: #F6F6FF\">nurse</span> <span style=\"background-color: #FFF4F4\">specialists</span> <span style=\"background-color: #FFFAFA\">,</span> <span style=\"background-color: #FFF4F4\">ward</span> <span style=\"background-color: #F2F2FF\">managers</span> <span style=\"background-color: #FFF4F4\">territory</span> <span style=\"background-color: #F3F3FF\">:</span> <span style=\"background-color: #F6F6FF\">east</span> <span style=\"background-color: #FFF8F8\">midlands</span> <span style=\"background-color: #FFF8F8\">location</span> <span style=\"background-color: #FFEAEA\">:</span> <span style=\"background-color: #F6F6FF\">east</span> <span style=\"background-color: #FFEAEA\">midlands</span> <span style=\"background-color: #FFFEFE\">package</span> <span style=\"background-color: #FFD6D6\">:</span> <span style=\"background-color: #FFFEFE\">basic</span> <span style=\"background-color: #FFF4F4\">:</span> <span style=\"background-color: #FFF6F6\">****</span> <span style=\"background-color: #FFE8E8\">k</span> <span style=\"background-color: #FFC6C6\">****</span> <span style=\"background-color: #FFF6F6\">k</span> <span style=\"background-color: #FFC6C6\">,</span> <span style=\"background-color: #FAFAFF\">uncapped</span> <span style=\"background-color: #F8F8FF\">bonus</span> <span style=\"background-color: #FFFEFE\">in</span> <span style=\"background-color: #FFFAFA\">addition</span> <span style=\"background-color: #FFF8F8\">,</span> <span style=\"background-color: #FCFCFF\">full</span> <span style=\"background-color: #FFFEFE\">corporate</span> <span style=\"background-color: #EEEEFF\">benefits</span> <span style=\"background-color: #FFEAEA\">company</span> <span style=\"background-color: #FFFCFC\">information</span> <span style=\"background-color: #FFFEFE\">hugely</span> <span style=\"background-color: #FCFCFF\">ethical</span> <span style=\"background-color: #F8F8FF\">and</span> <span style=\"background-color: #ECECFF\">professional</span> <span style=\"background-color: #E2E2FF\">global</span> <span style=\"background-color: #C3C3FF\">organisation</span> <span style=\"background-color: #E0E0FF\">extremely</span> <span style=\"background-color: #E0E0FF\">well</span> <span style=\"background-color: #FFECEC\">established</span> <span style=\"background-color: #F3F3FF\">in</span> <span style=\"background-color: #FFF8F8\">the</span> <span style=\"background-color: #E8E8FF\">uk</span> <span style=\"background-color: #E0E0FF\">the</span> <span style=\"background-color: #D8D8FF\">market</span> <span style=\"background-color: #EEEEFF\">leader</span> <span style=\"background-color: #F6F6FF\">across</span> <span style=\"background-color: #FCFCFF\">all</span> <span style=\"background-color: #F8F8FF\">of</span> <span style=\"background-color: #F8F8FF\">their</span> <span style=\"background-color: #FFF6F6\">core</span> <span style=\"background-color: #FEFEFF\">business</span> <span style=\"background-color: #FCFCFF\">areas</span> <span style=\"background-color: #F6F6FF\">focus</span> <span style=\"background-color: #FFFEFE\">on</span> <span style=\"background-color: #FFF4F4\">providing</span> <span style=\"background-color: #FFF2F2\">cutting</span> <span style=\"background-color: #ECECFF\">edge</span> <span style=\"background-color: #FCFCFF\">solutions</span> <span style=\"background-color: #FFAAAA\">along</span> <span style=\"background-color: #FFFEFE\">with</span> <span style=\"background-color: #FCFCFF\">outstanding</span> <span style=\"background-color: #FFFEFE\">service</span> <span style=\"background-color: #F3F3FF\">and</span> <span style=\"background-color: #FEFEFF\">support</span> <span style=\"background-color: #FFFCFC\">a</span> <span style=\"background-color: #FEFEFF\">business</span> <span style=\"background-color: #FFFEFE\">that</span> <span style=\"background-color: #FCFCFF\">retain</span> <span style=\"background-color: #FEFEFF\">talented</span> <span style=\"background-color: #FFFCFC\">personnel</span> <span style=\"background-color: #F8F8FF\">by</span> <span style=\"background-color: #FFFEFE\">offering</span> <span style=\"background-color: #FFFEFE\">a</span> <span style=\"background-color: #FEFEFF\">strong</span> <span style=\"background-color: #FEFEFF\">platform</span> <span style=\"background-color: #FCFCFF\">for</span> <span style=\"background-color: #EAEAFF\">career</span> <span style=\"background-color: #FCFCFF\">development</span> <span style=\"background-color: #FFFAFA\">sales</span> <span style=\"background-color: #FCFCFF\">specialist</span> <span style=\"background-color: #FFFAFA\">iv</span> <span style=\"background-color: #FFFEFE\">access</span> <span style=\"background-color: #F6F6FF\">and</span> <span style=\"background-color: #FFF6F6\">infusion</span> <span style=\"background-color: #FFE6E6\">you</span> <span style=\"background-color: #FFD2D2\">must</span> <span style=\"background-color: #FFD0D0\">have</span> <span style=\"background-color: #FFF0F0\">/</span> <span style=\"background-color: #FFE2E2\">be</span> <span style=\"background-color: #E8E8FF\">the</span> <span style=\"background-color: #FFE8E8\">following</span> <span style=\"background-color: #FFDEDE\">at</span> <span style=\"background-color: #D0D0FF\">least</span> <span style=\"background-color: #F3F3FF\">2</span> <span style=\"background-color: #C2C2FF\">years</span> <span style=\"background-color: #DEDEFF\">medical</span> <span style=\"background-color: #FFE4E4\">device</span> <span style=\"background-color: #FFFEFE\">sales</span> <span style=\"background-color: #FFFAFA\">experience</span> <span style=\"background-color: #FFFEFE\">.</span> <span style=\"background-color: #FFFEFE\">candidates</span> <span style=\"background-color: #F6F6FF\">who</span> <span style=\"background-color: #FFDEDE\">have</span> <span style=\"background-color: #F2F2FF\">sold</span> <span style=\"background-color: #FFF4F4\">disposables</span> <span style=\"background-color: #F3F3FF\">/</span> <span style=\"background-color: #F0F0FF\">consumables</span> <span style=\"background-color: #FFFAFA\">or</span> <span style=\"background-color: #FFFCFC\">similar</span> <span style=\"background-color: #FCFCFF\">into</span> <span style=\"background-color: #FFFCFC\">hospitals</span> <span style=\"background-color: #F6F6FF\">would</span> <span style=\"background-color: #F8F8FF\">be</span> <span style=\"background-color: #EAEAFF\">of</span> <span style=\"background-color: #FFFCFC\">particular</span> <span style=\"background-color: #EAEAFF\">interest</span> <span style=\"background-color: #FFDEDE\">.</span> <span style=\"background-color: #FFEAEA\">candidates</span> <span style=\"background-color: #FFEEEE\">must</span> <span style=\"background-color: #FFF8F8\">have</span> <span style=\"background-color: #FEFEFF\">sold</span> <span style=\"background-color: #FFE2E2\">into</span> <span style=\"background-color: #F2F2FF\">hospitals</span> <span style=\"background-color: #FCFCFF\">demonstrable</span> <span style=\"background-color: #FFFAFA\">performance</span> <span style=\"background-color: #FFFEFE\">and</span> <span style=\"background-color: #FFEEEE\">achievements</span> <span style=\"background-color: #FFFEFE\">so</span> <span style=\"background-color: #FEFEFF\">far</span> <span style=\"background-color: #EEEEFF\">personable</span> <span style=\"background-color: #FFFAFA\">,</span> <span style=\"background-color: #D6D6FF\">adaptable</span> <span style=\"background-color: #ECECFF\">and</span> <span style=\"background-color: #ECECFF\">willing</span> <span style=\"background-color: #EAEAFF\">to</span> <span style=\"background-color: #FFE0E0\">learn</span> <span style=\"background-color: #FFE8E8\">keen</span> <span style=\"background-color: #F3F3FF\">and</span> <span style=\"background-color: #FFF4F4\">eager</span> <span style=\"background-color: #FFFEFE\">to</span> <span style=\"background-color: #FFFCFC\">be</span> <span style=\"background-color: #FCFCFF\">a</span> <span style=\"background-color: #FFDEDE\">success</span> <span style=\"background-color: #FEFEFF\">candidates</span> <span style=\"background-color: #FAFAFF\">must</span> <span style=\"background-color: #D0D0FF\">have</span> <span style=\"background-color: #FFFAFA\">a</span> <span style=\"background-color: #EAEAFF\">degree</span> <span style=\"background-color: #FFF2F2\">or</span> <span style=\"background-color: #FFF6F6\">at</span> <span style=\"background-color: #F2F2FF\">least</span> <span style=\"background-color: #FFDEDE\">be</span> <span style=\"background-color: #FFECEC\">able</span> <span style=\"background-color: #FFECEC\">to</span> <span style=\"background-color: #FEFEFF\">show</span> <span style=\"background-color: #EEEEFF\">a</span> <span style=\"background-color: #FEFEFF\">strong</span> <span style=\"background-color: #FFF6F6\">ability</span> <span style=\"background-color: #F3F3FF\">to</span> <span style=\"background-color: #FFFEFE\">learn</span> <span style=\"background-color: #FFFEFE\">role</span> <span style=\"background-color: #FFFEFE\">information</span> <span style=\"background-color: #F0F0FF\">managing</span> <span style=\"background-color: #FFFEFE\">the</span> <span style=\"background-color: #FFFEFE\">east</span> <span style=\"background-color: #FFEEEE\">midlands</span> <span style=\"background-color: #FEFEFF\">region</span> <span style=\"background-color: #FEFEFF\">selling</span> <span style=\"background-color: #FFF6F6\">across</span> <span style=\"background-color: #FAFAFF\">the</span> <span style=\"background-color: #FFF6F6\">company</span> <span style=\"background-color: #FFFEFE\">'</span> <span style=\"background-color: #FFFEFE\">s</span> <span style=\"background-color: #FFFEFE\">range</span> <span style=\"background-color: #FFF8F8\">of</span> <span style=\"background-color: #FFFAFA\">iv</span> <span style=\"background-color: #FAFAFF\">and</span> <span style=\"background-color: #EEEEFF\">infusion</span> <span style=\"background-color: #E0E0FF\">solutions</span> <span style=\"background-color: #F0F0FF\">portfolio</span> <span style=\"background-color: #E8E8FF\">selling</span> <span style=\"background-color: #F3F3FF\">into</span> <span style=\"background-color: #FFFEFE\">lead</span> <span style=\"background-color: #FFCCCC\">intensive</span> <span style=\"background-color: #FFFEFE\">care</span> <span style=\"background-color: #F6F6FF\">nurse</span> <span style=\"background-color: #FEFEFF\">specialists</span> <span style=\"background-color: #FCFCFF\">,</span> <span style=\"background-color: #FFFEFE\">ward</span> <span style=\"background-color: #FEFEFF\">managers</span> <span style=\"background-color: #FFFEFE\">,</span> <span style=\"background-color: #FFEAEA\">iv</span> <span style=\"background-color: #FFFAFA\">teams</span> <span style=\"background-color: #FFFAFA\">,</span> <span style=\"background-color: #FFDADA\">infection</span> <span style=\"background-color: #FFE8E8\">control</span> <span style=\"background-color: #FCFCFF\">teams</span> <span style=\"background-color: #E3E3FF\">,</span> <span style=\"background-color: #FCFCFF\">procurement</span> <span style=\"background-color: #FFFEFE\">sales</span> <span style=\"background-color: #FEFEFF\">specialist</span> <span style=\"background-color: #FFF8F8\">iv</span> <span style=\"background-color: #FFFEFE\">access</span> <span style=\"background-color: #FEFEFF\">and</span> <span style=\"background-color: #FCFCFF\">infusion</span> <span style=\"background-color: #FAFAFF\">candidates</span> <span style=\"background-color: #FCFCFF\">must</span> <span style=\"background-color: #FFFAFA\">be</span> <span style=\"background-color: #FAFAFF\">eligible</span> <span style=\"background-color: #FFF2F2\">to</span> <span style=\"background-color: #F6F6FF\">work</span> <span style=\"background-color: #FEFEFF\">and</span> <span style=\"background-color: #FFE6E6\">live</span> <span style=\"background-color: #FAFAFF\">in</span> <span style=\"background-color: #FFFEFE\">the</span> <span style=\"background-color: #FFE0E0\">uk</span> <span style=\"background-color: #ECECFF\">.</span> <span style=\"background-color: #E6E6FF\">please</span> <span style=\"background-color: #F0F0FF\">contact</span> <span style=\"background-color: #FFECEC\">allan</span> <span style=\"background-color: #FFFEFE\">waller</span> <span style=\"background-color: #FFF8F8\">on</span> <span style=\"background-color: #FFDEDE\">****</span> <span style=\"background-color: #FCFCFF\">****</span> <span style=\"background-color: #E6E6FF\">****</span> <span style=\"background-color: #FAFAFF\">or</span> <span style=\"background-color: #E2E2FF\">please</span> <span style=\"background-color: #D3D3FF\">hit</span> <span style=\"background-color: #FFF2F2\">the</span> <span style=\"background-color: #D6D6FF\">apply</span> <span style=\"background-color: #E3E3FF\">button</span> <span style=\"background-color: #E2E2FF\">.</span> <span style=\"background-color: #FAFAFF\">this</span> <span style=\"background-color: #FFF4F4\">job</span> <span style=\"background-color: #EEEEFF\">was</span> <span style=\"background-color: #FCFCFF\">originally</span> <span style=\"background-color: #F8F8FF\">posted</span> <span style=\"background-color: #F6F6FF\">as</span> <span style=\"background-color: #F6F6FF\">www</span> <span style=\"background-color: #FFF2F2\">.</span> <span style=\"background-color: #FFFAFA\">salestarget</span> <span style=\"background-color: #F6F6FF\">.</span> <span style=\"background-color: #FFEEEE\">co</span> <span style=\"background-color: #F8F8FF\">.</span> <span style=\"background-color: #F2F2FF\">uk</span> <span style=\"background-color: #FAFAFF\">/</span> <span style=\"background-color: #F3F3FF\">jobseeking</span> <span style=\"background-color: #F0F0FF\">/</span> <span style=\"background-color: #FFFEFE\">UNK</span> <span style=\"background-color: #FFFEFE\">****</span></p>"
      ]
     },
     "metadata": {},
     "output_type": "display_data"
    }
   ],
   "source": [
    "i = 36605\n",
    "tokens_and_weights = explain(model, data.loc[i], \"Title\")\n",
    "draw_html([(tok, weight * 5) for tok, weight in tokens_and_weights], font_style='font-size:20px;');\n",
    "\n",
    "tokens_and_weights = explain(model, data.loc[i], \"FullDescription\")\n",
    "draw_html([(tok, weight * 10) for tok, weight in tokens_and_weights]);"
   ]
  },
  {
   "cell_type": "code",
   "execution_count": 101,
   "metadata": {},
   "outputs": [
    {
     "data": {
      "text/html": [
       "<p style=\"font-size:20px;\"><span style=\"background-color: #FFD0D0\">electrical</span> <span style=\"background-color: #FEFEFF\">/</span> <span style=\"background-color: #FFBABA\">mechanical</span> <span style=\"background-color: #FFD3D3\">assembler</span></p>"
      ]
     },
     "metadata": {},
     "output_type": "display_data"
    },
    {
     "data": {
      "text/html": [
       "<p style=\"font-size:14px;\"><span style=\"background-color: #ECECFF\">electrical</span> <span style=\"background-color: #FFF8F8\">assembler</span> <span style=\"background-color: #DADAFF\">required</span> <span style=\"background-color: #D8D8FF\">for</span> <span style=\"background-color: #CCCCFF\">tasks</span> <span style=\"background-color: #B3B3FF\">within</span> <span style=\"background-color: #FFFCFC\">product</span> <span style=\"background-color: #FFF6F6\">cell</span> <span style=\"background-color: #FFD3D3\">to</span> <span style=\"background-color: #FFFCFC\">include</span> <span style=\"background-color: #F0F0FF\">electrical</span> <span style=\"background-color: #FFD8D8\">and</span> <span style=\"background-color: #E8E8FF\">mechanical</span> <span style=\"background-color: #FF9E9E\">assembly</span> <span style=\"background-color: #FFECEC\">of</span> <span style=\"background-color: #FFCECE\">electronic</span> <span style=\"background-color: #FFF0F0\">parts</span> <span style=\"background-color: #FFECEC\">,</span> <span style=\"background-color: #FFF8F8\">cable</span> <span style=\"background-color: #FFD2D2\">preparation</span> <span style=\"background-color: #FFFAFA\">,</span> <span style=\"background-color: #FFF8F8\">harnessing</span> <span style=\"background-color: #FFF2F2\">and</span> <span style=\"background-color: #FFF4F4\">soldering</span> <span style=\"background-color: #FFFCFC\">.</span> <span style=\"background-color: #FFECEC\">previous</span> <span style=\"background-color: #D0D0FF\">experience</span> <span style=\"background-color: #FAFAFF\">in</span> <span style=\"background-color: #FEFEFF\">working</span> <span style=\"background-color: #FFDCDC\">in</span> <span style=\"background-color: #FFF4F4\">an</span> <span style=\"background-color: #FFFEFE\">electrical</span> <span style=\"background-color: #FFFEFE\">assembly</span> <span style=\"background-color: #FFFEFE\">environment</span> <span style=\"background-color: #F8F8FF\">is</span> <span style=\"background-color: #CECEFF\">essential</span> <span style=\"background-color: #FFDADA\">.</span> <span style=\"background-color: #FFE0E0\">this</span> <span style=\"background-color: #FFFCFC\">will</span> <span style=\"background-color: #FFECEC\">be</span> <span style=\"background-color: #FFEAEA\">a</span> <span style=\"background-color: #FFF4F4\">day</span> <span style=\"background-color: #FFD6D6\">shift</span> <span style=\"background-color: #EAEAFF\">working</span> <span style=\"background-color: #FFE0E0\">monday</span> <span style=\"background-color: #FFC3C3\">to</span> <span style=\"background-color: #FFDEDE\">thursday</span> <span style=\"background-color: #FFDCDC\">****:****</span> <span style=\"background-color: #FFFAFA\">5am</span> <span style=\"background-color: #FFF6F6\">to</span> <span style=\"background-color: #C6C6FF\">4</span> <span style=\"background-color: #FFDEDE\">:</span> <span style=\"background-color: #FFF6F6\">15pm</span> <span style=\"background-color: #FFCACA\">and</span> <span style=\"background-color: #FEFEFF\">friday</span> <span style=\"background-color: #FCFCFF\">****:****</span> <span style=\"background-color: #FCFCFF\">to</span> <span style=\"background-color: #E2E2FF\">****:****</span> <span style=\"background-color: #CACAFF\">the</span> <span style=\"background-color: #FFDEDE\">role</span> <span style=\"background-color: #FFE8E8\">will</span> <span style=\"background-color: #EEEEFF\">begin</span> <span style=\"background-color: #DCDCFF\">in</span> <span style=\"background-color: #A8A8FF\">january</span> <span style=\"background-color: #A6A6FF\">for</span> <span style=\"background-color: #D8D8FF\">up</span> <span style=\"background-color: #E3E3FF\">to</span> <span style=\"background-color: #D8D8FF\">6</span> <span style=\"background-color: #FFECEC\">months</span> <span style=\"background-color: #E2E2FF\">.</span> <span style=\"background-color: #FFB6B6\">to</span> <span style=\"background-color: #D8D8FF\">apply</span> <span style=\"background-color: #FCFCFF\">please</span> <span style=\"background-color: #DEDEFF\">call</span> <span style=\"background-color: #EAEAFF\">emma</span> <span style=\"background-color: #9898FF\">storey</span> <span style=\"background-color: #E3E3FF\">on</span> <span style=\"background-color: #E3E3FF\">****</span> <span style=\"background-color: #E0E0FF\">****</span></p>"
      ]
     },
     "metadata": {},
     "output_type": "display_data"
    }
   ],
   "source": [
    "i = 12087\n",
    "tokens_and_weights = explain(model, data.loc[i], \"Title\")\n",
    "draw_html([(tok, weight * 5) for tok, weight in tokens_and_weights], font_style='font-size:20px;');\n",
    "\n",
    "tokens_and_weights = explain(model, data.loc[i], \"FullDescription\")\n",
    "draw_html([(tok, weight * 10) for tok, weight in tokens_and_weights]);"
   ]
  },
  {
   "cell_type": "code",
   "execution_count": 103,
   "metadata": {},
   "outputs": [
    {
     "name": "stdout",
     "output_type": "stream",
     "text": [
      "Index: 236126\n",
      "Salary (gbp): tensor(4779.9155)\n"
     ]
    },
    {
     "data": {
      "text/html": [
       "<p style=\"font-size:20px;\"><span style=\"background-color: #FFA0A0\">junior</span> <span style=\"background-color: #FFDADA\">recruitment</span> <span style=\"background-color: #FFCACA\">consultant</span></p>"
      ]
     },
     "metadata": {},
     "output_type": "display_data"
    },
    {
     "data": {
      "text/html": [
       "<p style=\"font-size:14px;\"><span style=\"background-color: #FFF6F6\">are</span> <span style=\"background-color: #FAFAFF\">you</span> <span style=\"background-color: #EEEEFF\">a</span> <span style=\"background-color: #FFCECE\">people</span> <span style=\"background-color: #E6E6FF\">’</span> <span style=\"background-color: #BEBEFF\">s</span> <span style=\"background-color: #FFF4F4\">person</span> <span style=\"background-color: #F0F0FF\">?</span> <span style=\"background-color: #FFD2D2\">enjoy</span> <span style=\"background-color: #FFB3B3\">following</span> <span style=\"background-color: #FFC0C0\">projects</span> <span style=\"background-color: #FFF8F8\">from</span> <span style=\"background-color: #FF9E9E\">start</span> <span style=\"background-color: #FFBEBE\">to</span> <span style=\"background-color: #FFE0E0\">finish</span> <span style=\"background-color: #F0F0FF\">?</span> <span style=\"background-color: #FFFAFA\">then</span> <span style=\"background-color: #FFDADA\">this</span> <span style=\"background-color: #FF9E9E\">is</span> <span style=\"background-color: #CACAFF\">the</span> <span style=\"background-color: #FF8C8C\">role</span> <span style=\"background-color: #FFC6C6\">for</span> <span style=\"background-color: #FF9E9E\">you</span> <span style=\"background-color: #FFE2E2\">.</span> <span style=\"background-color: #FFF6F6\">come</span> <span style=\"background-color: #EEEEFF\">join</span> <span style=\"background-color: #F8F8FF\">a</span> <span style=\"background-color: #FFEEEE\">fast</span> <span style=\"background-color: #FFF0F0\">growing</span> <span style=\"background-color: #FFF4F4\">team</span> <span style=\"background-color: #FFDCDC\">as</span> <span style=\"background-color: #FFF4F4\">a</span> <span style=\"background-color: #FFD3D3\">junior</span> <span style=\"background-color: #FFFAFA\">consultant</span> <span style=\"background-color: #E6E6FF\">.</span> <span style=\"background-color: #FFFAFA\">you</span> <span style=\"background-color: #FFF6F6\">will</span> <span style=\"background-color: #FFD2D2\">be</span> <span style=\"background-color: #F2F2FF\">quick</span> <span style=\"background-color: #FFD2D2\">,</span> <span style=\"background-color: #FF9696\">professional</span> <span style=\"background-color: #FFA2A2\">and</span> <span style=\"background-color: #FFDADA\">diligent</span> <span style=\"background-color: #FFE2E2\">.</span> <span style=\"background-color: #C3C3FF\">graduate</span> <span style=\"background-color: #C2C2FF\">level</span> <span style=\"background-color: #FFB6B6\">appreciated</span> <span style=\"background-color: #FF9898\">.</span> <span style=\"background-color: #FFE8E8\">apply</span> <span style=\"background-color: #FF9090\">now</span> <span style=\"background-color: #FF9696\">and</span> <span style=\"background-color: #DADAFF\">don</span> <span style=\"background-color: #F0F0FF\">’</span> <span style=\"background-color: #FFD6D6\">t</span> <span style=\"background-color: #FEFEFF\">miss</span> <span style=\"background-color: #F8F8FF\">out</span></p>"
      ]
     },
     "metadata": {},
     "output_type": "display_data"
    }
   ],
   "source": [
    "i = np.random.randint(len(data))\n",
    "print(\"Index:\", i)\n",
    "print(\"Salary (gbp):\", np.expm1(model(make_batch(data.iloc[i: i+1], device=device)).detach().cpu()))\n",
    "\n",
    "tokens_and_weights = explain(model, data.loc[i], \"Title\")\n",
    "draw_html([(tok, weight * 5) for tok, weight in tokens_and_weights], font_style='font-size:20px;');\n",
    "\n",
    "tokens_and_weights = explain(model, data.loc[i], \"FullDescription\")\n",
    "draw_html([(tok, weight * 10) for tok, weight in tokens_and_weights]);"
   ]
  },
  {
   "cell_type": "markdown",
   "metadata": {},
   "source": [
    "__Terrible start-up idea #1962:__ make a tool that automaticaly rephrases your job description (or CV) to meet salary expectations :)"
   ]
  }
 ],
 "metadata": {
  "kernelspec": {
   "display_name": "Python 3 (ipykernel)",
   "language": "python",
   "name": "python3"
  },
  "language_info": {
   "codemirror_mode": {
    "name": "ipython",
    "version": 3
   },
   "file_extension": ".py",
   "mimetype": "text/x-python",
   "name": "python",
   "nbconvert_exporter": "python",
   "pygments_lexer": "ipython3",
   "version": "3.8.10"
  }
 },
 "nbformat": 4,
 "nbformat_minor": 4
}
